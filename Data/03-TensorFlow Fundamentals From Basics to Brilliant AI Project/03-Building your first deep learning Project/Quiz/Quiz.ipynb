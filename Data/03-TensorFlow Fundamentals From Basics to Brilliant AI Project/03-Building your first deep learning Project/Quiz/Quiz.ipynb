{
  "nbformat": 4,
  "nbformat_minor": 0,
  "metadata": {
    "colab": {
      "provenance": []
    },
    "kernelspec": {
      "name": "python3",
      "display_name": "Python 3"
    },
    "language_info": {
      "name": "python"
    }
  },
  "cells": [
    {
      "cell_type": "code",
      "execution_count": 1,
      "metadata": {
        "id": "OQFzk8JsESLV"
      },
      "outputs": [],
      "source": [
        "import numpy as np\n",
        "import tensorflow as tf\n"
      ]
    },
    {
      "cell_type": "code",
      "source": [
        "x_train = np.array([[0], [1], [2], [3], [4], [5], [6], [7], [8], [9]])\n",
        "y_train = np.array([[0], [1], [0], [1], [0], [1], [0], [1], [0], [1]])"
      ],
      "metadata": {
        "id": "tdO79dIHEh7R"
      },
      "execution_count": 5,
      "outputs": []
    },
    {
      "cell_type": "code",
      "source": [
        "model=tf.keras.Sequential()\n",
        "model.add(tf.keras.layers.Dense(1,input_shape=[1],activation='sigmoid'))"
      ],
      "metadata": {
        "id": "D25om72dE1ly"
      },
      "execution_count": 6,
      "outputs": []
    },
    {
      "cell_type": "code",
      "source": [
        "model.compile(optimizer=tf.keras.optimizers.SGD(),\n",
        "              loss=tf.keras.losses.BinaryCrossentropy(),\n",
        "              metrics=[tf.keras.metrics.BinaryAccuracy()])"
      ],
      "metadata": {
        "id": "fO__4Kp9E4Rc"
      },
      "execution_count": 7,
      "outputs": []
    },
    {
      "cell_type": "code",
      "source": [
        "model.fit(x_train,y_train,epochs=100,validation_split=0.1)"
      ],
      "metadata": {
        "colab": {
          "base_uri": "https://localhost:8080/"
        },
        "id": "Ijt8S7wzFig6",
        "outputId": "8233a378-367b-4c2e-b146-ec86f82f295e"
      },
      "execution_count": 8,
      "outputs": [
        {
          "output_type": "stream",
          "name": "stdout",
          "text": [
            "Epoch 1/100\n",
            "1/1 [==============================] - 1s 1s/step - loss: 0.6897 - binary_accuracy: 0.5556 - val_loss: 0.9781 - val_binary_accuracy: 0.0000e+00\n",
            "Epoch 2/100\n",
            "1/1 [==============================] - 0s 68ms/step - loss: 0.6896 - binary_accuracy: 0.4444 - val_loss: 0.9729 - val_binary_accuracy: 0.0000e+00\n",
            "Epoch 3/100\n",
            "1/1 [==============================] - 0s 68ms/step - loss: 0.6895 - binary_accuracy: 0.4444 - val_loss: 0.9679 - val_binary_accuracy: 0.0000e+00\n",
            "Epoch 4/100\n",
            "1/1 [==============================] - 0s 68ms/step - loss: 0.6894 - binary_accuracy: 0.4444 - val_loss: 0.9633 - val_binary_accuracy: 0.0000e+00\n",
            "Epoch 5/100\n",
            "1/1 [==============================] - 0s 77ms/step - loss: 0.6893 - binary_accuracy: 0.5556 - val_loss: 0.9590 - val_binary_accuracy: 0.0000e+00\n",
            "Epoch 6/100\n",
            "1/1 [==============================] - 0s 54ms/step - loss: 0.6893 - binary_accuracy: 0.5556 - val_loss: 0.9549 - val_binary_accuracy: 0.0000e+00\n",
            "Epoch 7/100\n",
            "1/1 [==============================] - 0s 69ms/step - loss: 0.6892 - binary_accuracy: 0.5556 - val_loss: 0.9510 - val_binary_accuracy: 0.0000e+00\n",
            "Epoch 8/100\n",
            "1/1 [==============================] - 0s 68ms/step - loss: 0.6892 - binary_accuracy: 0.5556 - val_loss: 0.9474 - val_binary_accuracy: 0.0000e+00\n",
            "Epoch 9/100\n",
            "1/1 [==============================] - 0s 87ms/step - loss: 0.6891 - binary_accuracy: 0.5556 - val_loss: 0.9439 - val_binary_accuracy: 0.0000e+00\n",
            "Epoch 10/100\n",
            "1/1 [==============================] - 0s 76ms/step - loss: 0.6891 - binary_accuracy: 0.5556 - val_loss: 0.9407 - val_binary_accuracy: 0.0000e+00\n",
            "Epoch 11/100\n",
            "1/1 [==============================] - 0s 55ms/step - loss: 0.6891 - binary_accuracy: 0.5556 - val_loss: 0.9377 - val_binary_accuracy: 0.0000e+00\n",
            "Epoch 12/100\n",
            "1/1 [==============================] - 0s 67ms/step - loss: 0.6890 - binary_accuracy: 0.5556 - val_loss: 0.9348 - val_binary_accuracy: 0.0000e+00\n",
            "Epoch 13/100\n",
            "1/1 [==============================] - 0s 64ms/step - loss: 0.6890 - binary_accuracy: 0.5556 - val_loss: 0.9321 - val_binary_accuracy: 0.0000e+00\n",
            "Epoch 14/100\n",
            "1/1 [==============================] - 0s 65ms/step - loss: 0.6890 - binary_accuracy: 0.5556 - val_loss: 0.9296 - val_binary_accuracy: 0.0000e+00\n",
            "Epoch 15/100\n",
            "1/1 [==============================] - 0s 68ms/step - loss: 0.6890 - binary_accuracy: 0.5556 - val_loss: 0.9272 - val_binary_accuracy: 0.0000e+00\n",
            "Epoch 16/100\n",
            "1/1 [==============================] - 0s 65ms/step - loss: 0.6889 - binary_accuracy: 0.5556 - val_loss: 0.9249 - val_binary_accuracy: 0.0000e+00\n",
            "Epoch 17/100\n",
            "1/1 [==============================] - 0s 80ms/step - loss: 0.6889 - binary_accuracy: 0.5556 - val_loss: 0.9228 - val_binary_accuracy: 0.0000e+00\n",
            "Epoch 18/100\n",
            "1/1 [==============================] - 0s 77ms/step - loss: 0.6889 - binary_accuracy: 0.5556 - val_loss: 0.9208 - val_binary_accuracy: 0.0000e+00\n",
            "Epoch 19/100\n",
            "1/1 [==============================] - 0s 73ms/step - loss: 0.6889 - binary_accuracy: 0.5556 - val_loss: 0.9189 - val_binary_accuracy: 0.0000e+00\n",
            "Epoch 20/100\n",
            "1/1 [==============================] - 0s 65ms/step - loss: 0.6889 - binary_accuracy: 0.5556 - val_loss: 0.9171 - val_binary_accuracy: 0.0000e+00\n",
            "Epoch 21/100\n",
            "1/1 [==============================] - 0s 75ms/step - loss: 0.6889 - binary_accuracy: 0.5556 - val_loss: 0.9154 - val_binary_accuracy: 0.0000e+00\n",
            "Epoch 22/100\n",
            "1/1 [==============================] - 0s 83ms/step - loss: 0.6888 - binary_accuracy: 0.5556 - val_loss: 0.9138 - val_binary_accuracy: 0.0000e+00\n",
            "Epoch 23/100\n",
            "1/1 [==============================] - 0s 54ms/step - loss: 0.6888 - binary_accuracy: 0.5556 - val_loss: 0.9123 - val_binary_accuracy: 0.0000e+00\n",
            "Epoch 24/100\n",
            "1/1 [==============================] - 0s 85ms/step - loss: 0.6888 - binary_accuracy: 0.5556 - val_loss: 0.9109 - val_binary_accuracy: 0.0000e+00\n",
            "Epoch 25/100\n",
            "1/1 [==============================] - 0s 75ms/step - loss: 0.6888 - binary_accuracy: 0.5556 - val_loss: 0.9095 - val_binary_accuracy: 0.0000e+00\n",
            "Epoch 26/100\n",
            "1/1 [==============================] - 0s 57ms/step - loss: 0.6888 - binary_accuracy: 0.5556 - val_loss: 0.9083 - val_binary_accuracy: 0.0000e+00\n",
            "Epoch 27/100\n",
            "1/1 [==============================] - 0s 41ms/step - loss: 0.6888 - binary_accuracy: 0.5556 - val_loss: 0.9071 - val_binary_accuracy: 0.0000e+00\n",
            "Epoch 28/100\n",
            "1/1 [==============================] - 0s 57ms/step - loss: 0.6888 - binary_accuracy: 0.5556 - val_loss: 0.9059 - val_binary_accuracy: 0.0000e+00\n",
            "Epoch 29/100\n",
            "1/1 [==============================] - 0s 57ms/step - loss: 0.6888 - binary_accuracy: 0.5556 - val_loss: 0.9049 - val_binary_accuracy: 0.0000e+00\n",
            "Epoch 30/100\n",
            "1/1 [==============================] - 0s 54ms/step - loss: 0.6888 - binary_accuracy: 0.5556 - val_loss: 0.9039 - val_binary_accuracy: 0.0000e+00\n",
            "Epoch 31/100\n",
            "1/1 [==============================] - 0s 39ms/step - loss: 0.6888 - binary_accuracy: 0.5556 - val_loss: 0.9029 - val_binary_accuracy: 0.0000e+00\n",
            "Epoch 32/100\n",
            "1/1 [==============================] - 0s 57ms/step - loss: 0.6888 - binary_accuracy: 0.5556 - val_loss: 0.9020 - val_binary_accuracy: 0.0000e+00\n",
            "Epoch 33/100\n",
            "1/1 [==============================] - 0s 68ms/step - loss: 0.6888 - binary_accuracy: 0.5556 - val_loss: 0.9012 - val_binary_accuracy: 0.0000e+00\n",
            "Epoch 34/100\n",
            "1/1 [==============================] - 0s 44ms/step - loss: 0.6888 - binary_accuracy: 0.5556 - val_loss: 0.9003 - val_binary_accuracy: 0.0000e+00\n",
            "Epoch 35/100\n",
            "1/1 [==============================] - 0s 46ms/step - loss: 0.6888 - binary_accuracy: 0.5556 - val_loss: 0.8996 - val_binary_accuracy: 0.0000e+00\n",
            "Epoch 36/100\n",
            "1/1 [==============================] - 0s 54ms/step - loss: 0.6888 - binary_accuracy: 0.5556 - val_loss: 0.8989 - val_binary_accuracy: 0.0000e+00\n",
            "Epoch 37/100\n",
            "1/1 [==============================] - 0s 47ms/step - loss: 0.6887 - binary_accuracy: 0.5556 - val_loss: 0.8982 - val_binary_accuracy: 0.0000e+00\n",
            "Epoch 38/100\n",
            "1/1 [==============================] - 0s 65ms/step - loss: 0.6887 - binary_accuracy: 0.5556 - val_loss: 0.8975 - val_binary_accuracy: 0.0000e+00\n",
            "Epoch 39/100\n",
            "1/1 [==============================] - 0s 50ms/step - loss: 0.6887 - binary_accuracy: 0.5556 - val_loss: 0.8969 - val_binary_accuracy: 0.0000e+00\n",
            "Epoch 40/100\n",
            "1/1 [==============================] - 0s 59ms/step - loss: 0.6887 - binary_accuracy: 0.5556 - val_loss: 0.8963 - val_binary_accuracy: 0.0000e+00\n",
            "Epoch 41/100\n",
            "1/1 [==============================] - 0s 41ms/step - loss: 0.6887 - binary_accuracy: 0.5556 - val_loss: 0.8958 - val_binary_accuracy: 0.0000e+00\n",
            "Epoch 42/100\n",
            "1/1 [==============================] - 0s 44ms/step - loss: 0.6887 - binary_accuracy: 0.5556 - val_loss: 0.8953 - val_binary_accuracy: 0.0000e+00\n",
            "Epoch 43/100\n",
            "1/1 [==============================] - 0s 64ms/step - loss: 0.6887 - binary_accuracy: 0.5556 - val_loss: 0.8948 - val_binary_accuracy: 0.0000e+00\n",
            "Epoch 44/100\n",
            "1/1 [==============================] - 0s 45ms/step - loss: 0.6887 - binary_accuracy: 0.5556 - val_loss: 0.8943 - val_binary_accuracy: 0.0000e+00\n",
            "Epoch 45/100\n",
            "1/1 [==============================] - 0s 56ms/step - loss: 0.6887 - binary_accuracy: 0.5556 - val_loss: 0.8939 - val_binary_accuracy: 0.0000e+00\n",
            "Epoch 46/100\n",
            "1/1 [==============================] - 0s 57ms/step - loss: 0.6887 - binary_accuracy: 0.5556 - val_loss: 0.8934 - val_binary_accuracy: 0.0000e+00\n",
            "Epoch 47/100\n",
            "1/1 [==============================] - 0s 56ms/step - loss: 0.6887 - binary_accuracy: 0.5556 - val_loss: 0.8930 - val_binary_accuracy: 0.0000e+00\n",
            "Epoch 48/100\n",
            "1/1 [==============================] - 0s 62ms/step - loss: 0.6887 - binary_accuracy: 0.5556 - val_loss: 0.8926 - val_binary_accuracy: 0.0000e+00\n",
            "Epoch 49/100\n",
            "1/1 [==============================] - 0s 61ms/step - loss: 0.6887 - binary_accuracy: 0.5556 - val_loss: 0.8923 - val_binary_accuracy: 0.0000e+00\n",
            "Epoch 50/100\n",
            "1/1 [==============================] - 0s 72ms/step - loss: 0.6887 - binary_accuracy: 0.5556 - val_loss: 0.8919 - val_binary_accuracy: 0.0000e+00\n",
            "Epoch 51/100\n",
            "1/1 [==============================] - 0s 63ms/step - loss: 0.6887 - binary_accuracy: 0.5556 - val_loss: 0.8916 - val_binary_accuracy: 0.0000e+00\n",
            "Epoch 52/100\n",
            "1/1 [==============================] - 0s 87ms/step - loss: 0.6887 - binary_accuracy: 0.5556 - val_loss: 0.8913 - val_binary_accuracy: 0.0000e+00\n",
            "Epoch 53/100\n",
            "1/1 [==============================] - 0s 64ms/step - loss: 0.6887 - binary_accuracy: 0.5556 - val_loss: 0.8910 - val_binary_accuracy: 0.0000e+00\n",
            "Epoch 54/100\n",
            "1/1 [==============================] - 0s 68ms/step - loss: 0.6887 - binary_accuracy: 0.5556 - val_loss: 0.8907 - val_binary_accuracy: 0.0000e+00\n",
            "Epoch 55/100\n",
            "1/1 [==============================] - 0s 43ms/step - loss: 0.6887 - binary_accuracy: 0.5556 - val_loss: 0.8904 - val_binary_accuracy: 0.0000e+00\n",
            "Epoch 56/100\n",
            "1/1 [==============================] - 0s 46ms/step - loss: 0.6887 - binary_accuracy: 0.5556 - val_loss: 0.8902 - val_binary_accuracy: 0.0000e+00\n",
            "Epoch 57/100\n",
            "1/1 [==============================] - 0s 60ms/step - loss: 0.6887 - binary_accuracy: 0.5556 - val_loss: 0.8899 - val_binary_accuracy: 0.0000e+00\n",
            "Epoch 58/100\n",
            "1/1 [==============================] - 0s 64ms/step - loss: 0.6887 - binary_accuracy: 0.5556 - val_loss: 0.8897 - val_binary_accuracy: 0.0000e+00\n",
            "Epoch 59/100\n",
            "1/1 [==============================] - 0s 48ms/step - loss: 0.6887 - binary_accuracy: 0.5556 - val_loss: 0.8895 - val_binary_accuracy: 0.0000e+00\n",
            "Epoch 60/100\n",
            "1/1 [==============================] - 0s 63ms/step - loss: 0.6887 - binary_accuracy: 0.5556 - val_loss: 0.8893 - val_binary_accuracy: 0.0000e+00\n",
            "Epoch 61/100\n",
            "1/1 [==============================] - 0s 45ms/step - loss: 0.6887 - binary_accuracy: 0.5556 - val_loss: 0.8891 - val_binary_accuracy: 0.0000e+00\n",
            "Epoch 62/100\n",
            "1/1 [==============================] - 0s 71ms/step - loss: 0.6887 - binary_accuracy: 0.5556 - val_loss: 0.8889 - val_binary_accuracy: 0.0000e+00\n",
            "Epoch 63/100\n",
            "1/1 [==============================] - 0s 49ms/step - loss: 0.6887 - binary_accuracy: 0.5556 - val_loss: 0.8887 - val_binary_accuracy: 0.0000e+00\n",
            "Epoch 64/100\n",
            "1/1 [==============================] - 0s 44ms/step - loss: 0.6887 - binary_accuracy: 0.5556 - val_loss: 0.8885 - val_binary_accuracy: 0.0000e+00\n",
            "Epoch 65/100\n",
            "1/1 [==============================] - 0s 61ms/step - loss: 0.6887 - binary_accuracy: 0.5556 - val_loss: 0.8883 - val_binary_accuracy: 0.0000e+00\n",
            "Epoch 66/100\n",
            "1/1 [==============================] - 0s 66ms/step - loss: 0.6887 - binary_accuracy: 0.5556 - val_loss: 0.8881 - val_binary_accuracy: 0.0000e+00\n",
            "Epoch 67/100\n",
            "1/1 [==============================] - 0s 46ms/step - loss: 0.6887 - binary_accuracy: 0.5556 - val_loss: 0.8880 - val_binary_accuracy: 0.0000e+00\n",
            "Epoch 68/100\n",
            "1/1 [==============================] - 0s 57ms/step - loss: 0.6887 - binary_accuracy: 0.5556 - val_loss: 0.8878 - val_binary_accuracy: 0.0000e+00\n",
            "Epoch 69/100\n",
            "1/1 [==============================] - 0s 62ms/step - loss: 0.6887 - binary_accuracy: 0.5556 - val_loss: 0.8877 - val_binary_accuracy: 0.0000e+00\n",
            "Epoch 70/100\n",
            "1/1 [==============================] - 0s 50ms/step - loss: 0.6887 - binary_accuracy: 0.5556 - val_loss: 0.8875 - val_binary_accuracy: 0.0000e+00\n",
            "Epoch 71/100\n",
            "1/1 [==============================] - 0s 54ms/step - loss: 0.6887 - binary_accuracy: 0.5556 - val_loss: 0.8874 - val_binary_accuracy: 0.0000e+00\n",
            "Epoch 72/100\n",
            "1/1 [==============================] - 0s 72ms/step - loss: 0.6886 - binary_accuracy: 0.5556 - val_loss: 0.8873 - val_binary_accuracy: 0.0000e+00\n",
            "Epoch 73/100\n",
            "1/1 [==============================] - 0s 47ms/step - loss: 0.6886 - binary_accuracy: 0.5556 - val_loss: 0.8871 - val_binary_accuracy: 0.0000e+00\n",
            "Epoch 74/100\n",
            "1/1 [==============================] - 0s 45ms/step - loss: 0.6886 - binary_accuracy: 0.5556 - val_loss: 0.8870 - val_binary_accuracy: 0.0000e+00\n",
            "Epoch 75/100\n",
            "1/1 [==============================] - 0s 44ms/step - loss: 0.6886 - binary_accuracy: 0.5556 - val_loss: 0.8869 - val_binary_accuracy: 0.0000e+00\n",
            "Epoch 76/100\n",
            "1/1 [==============================] - 0s 43ms/step - loss: 0.6886 - binary_accuracy: 0.5556 - val_loss: 0.8868 - val_binary_accuracy: 0.0000e+00\n",
            "Epoch 77/100\n",
            "1/1 [==============================] - 0s 62ms/step - loss: 0.6886 - binary_accuracy: 0.5556 - val_loss: 0.8867 - val_binary_accuracy: 0.0000e+00\n",
            "Epoch 78/100\n",
            "1/1 [==============================] - 0s 45ms/step - loss: 0.6886 - binary_accuracy: 0.5556 - val_loss: 0.8866 - val_binary_accuracy: 0.0000e+00\n",
            "Epoch 79/100\n",
            "1/1 [==============================] - 0s 63ms/step - loss: 0.6886 - binary_accuracy: 0.5556 - val_loss: 0.8864 - val_binary_accuracy: 0.0000e+00\n",
            "Epoch 80/100\n",
            "1/1 [==============================] - 0s 44ms/step - loss: 0.6886 - binary_accuracy: 0.5556 - val_loss: 0.8863 - val_binary_accuracy: 0.0000e+00\n",
            "Epoch 81/100\n",
            "1/1 [==============================] - 0s 66ms/step - loss: 0.6886 - binary_accuracy: 0.5556 - val_loss: 0.8862 - val_binary_accuracy: 0.0000e+00\n",
            "Epoch 82/100\n",
            "1/1 [==============================] - 0s 47ms/step - loss: 0.6886 - binary_accuracy: 0.5556 - val_loss: 0.8861 - val_binary_accuracy: 0.0000e+00\n",
            "Epoch 83/100\n",
            "1/1 [==============================] - 0s 65ms/step - loss: 0.6886 - binary_accuracy: 0.5556 - val_loss: 0.8861 - val_binary_accuracy: 0.0000e+00\n",
            "Epoch 84/100\n",
            "1/1 [==============================] - 0s 62ms/step - loss: 0.6886 - binary_accuracy: 0.5556 - val_loss: 0.8860 - val_binary_accuracy: 0.0000e+00\n",
            "Epoch 85/100\n",
            "1/1 [==============================] - 0s 46ms/step - loss: 0.6886 - binary_accuracy: 0.5556 - val_loss: 0.8859 - val_binary_accuracy: 0.0000e+00\n",
            "Epoch 86/100\n",
            "1/1 [==============================] - 0s 61ms/step - loss: 0.6886 - binary_accuracy: 0.5556 - val_loss: 0.8858 - val_binary_accuracy: 0.0000e+00\n",
            "Epoch 87/100\n",
            "1/1 [==============================] - 0s 66ms/step - loss: 0.6886 - binary_accuracy: 0.5556 - val_loss: 0.8857 - val_binary_accuracy: 0.0000e+00\n",
            "Epoch 88/100\n",
            "1/1 [==============================] - 0s 73ms/step - loss: 0.6886 - binary_accuracy: 0.5556 - val_loss: 0.8856 - val_binary_accuracy: 0.0000e+00\n",
            "Epoch 89/100\n",
            "1/1 [==============================] - 0s 47ms/step - loss: 0.6886 - binary_accuracy: 0.5556 - val_loss: 0.8855 - val_binary_accuracy: 0.0000e+00\n",
            "Epoch 90/100\n",
            "1/1 [==============================] - 0s 48ms/step - loss: 0.6886 - binary_accuracy: 0.5556 - val_loss: 0.8854 - val_binary_accuracy: 0.0000e+00\n",
            "Epoch 91/100\n",
            "1/1 [==============================] - 0s 44ms/step - loss: 0.6886 - binary_accuracy: 0.5556 - val_loss: 0.8854 - val_binary_accuracy: 0.0000e+00\n",
            "Epoch 92/100\n",
            "1/1 [==============================] - 0s 64ms/step - loss: 0.6886 - binary_accuracy: 0.5556 - val_loss: 0.8853 - val_binary_accuracy: 0.0000e+00\n",
            "Epoch 93/100\n",
            "1/1 [==============================] - 0s 70ms/step - loss: 0.6886 - binary_accuracy: 0.5556 - val_loss: 0.8852 - val_binary_accuracy: 0.0000e+00\n",
            "Epoch 94/100\n",
            "1/1 [==============================] - 0s 54ms/step - loss: 0.6886 - binary_accuracy: 0.5556 - val_loss: 0.8851 - val_binary_accuracy: 0.0000e+00\n",
            "Epoch 95/100\n",
            "1/1 [==============================] - 0s 45ms/step - loss: 0.6886 - binary_accuracy: 0.5556 - val_loss: 0.8851 - val_binary_accuracy: 0.0000e+00\n",
            "Epoch 96/100\n",
            "1/1 [==============================] - 0s 44ms/step - loss: 0.6886 - binary_accuracy: 0.5556 - val_loss: 0.8850 - val_binary_accuracy: 0.0000e+00\n",
            "Epoch 97/100\n",
            "1/1 [==============================] - 0s 59ms/step - loss: 0.6886 - binary_accuracy: 0.5556 - val_loss: 0.8849 - val_binary_accuracy: 0.0000e+00\n",
            "Epoch 98/100\n",
            "1/1 [==============================] - 0s 52ms/step - loss: 0.6886 - binary_accuracy: 0.5556 - val_loss: 0.8848 - val_binary_accuracy: 0.0000e+00\n",
            "Epoch 99/100\n",
            "1/1 [==============================] - 0s 43ms/step - loss: 0.6886 - binary_accuracy: 0.5556 - val_loss: 0.8848 - val_binary_accuracy: 0.0000e+00\n",
            "Epoch 100/100\n",
            "1/1 [==============================] - 0s 44ms/step - loss: 0.6886 - binary_accuracy: 0.5556 - val_loss: 0.8847 - val_binary_accuracy: 0.0000e+00\n"
          ]
        },
        {
          "output_type": "execute_result",
          "data": {
            "text/plain": [
              "<keras.callbacks.History at 0x7f6a93006a40>"
            ]
          },
          "metadata": {},
          "execution_count": 8
        }
      ]
    },
    {
      "cell_type": "code",
      "source": [
        "pred=model.predict(x_train)"
      ],
      "metadata": {
        "colab": {
          "base_uri": "https://localhost:8080/"
        },
        "id": "3qZFzmaFFvJ5",
        "outputId": "ede595d1-ab54-4140-8ca5-ef51aa716a6b"
      },
      "execution_count": 11,
      "outputs": [
        {
          "output_type": "stream",
          "name": "stdout",
          "text": [
            "1/1 [==============================] - 0s 94ms/step\n"
          ]
        }
      ]
    },
    {
      "cell_type": "code",
      "source": [
        "pred"
      ],
      "metadata": {
        "colab": {
          "base_uri": "https://localhost:8080/"
        },
        "id": "Z8uJckgpFxd6",
        "outputId": "60782fa3-95c6-4a55-88b7-0a2a1ee741d4"
      },
      "execution_count": 12,
      "outputs": [
        {
          "output_type": "execute_result",
          "data": {
            "text/plain": [
              "array([[0.49688354],\n",
              "       [0.4874475 ],\n",
              "       [0.47802043],\n",
              "       [0.46860895],\n",
              "       [0.45921975],\n",
              "       [0.4498594 ],\n",
              "       [0.44053453],\n",
              "       [0.43125132],\n",
              "       [0.42201617],\n",
              "       [0.41283527]], dtype=float32)"
            ]
          },
          "metadata": {},
          "execution_count": 12
        }
      ]
    },
    {
      "cell_type": "code",
      "source": [],
      "metadata": {
        "id": "HDq-xwMoFxhW"
      },
      "execution_count": null,
      "outputs": []
    }
  ]
}