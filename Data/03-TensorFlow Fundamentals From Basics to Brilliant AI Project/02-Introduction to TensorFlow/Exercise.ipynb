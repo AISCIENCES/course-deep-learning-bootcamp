{
  "nbformat": 4,
  "nbformat_minor": 0,
  "metadata": {
    "colab": {
      "provenance": []
    },
    "kernelspec": {
      "name": "python3",
      "display_name": "Python 3"
    },
    "language_info": {
      "name": "python"
    }
  },
  "cells": [
    {
      "cell_type": "code",
      "source": [
        "import tensorflow.compat.v1 as tf"
      ],
      "metadata": {
        "id": "s-OKy3hum33H"
      },
      "execution_count": 8,
      "outputs": []
    },
    {
      "cell_type": "code",
      "source": [
        "tf.disable_v2_behavior()"
      ],
      "metadata": {
        "id": "6KaMWwwAnKpm"
      },
      "execution_count": 9,
      "outputs": []
    },
    {
      "cell_type": "code",
      "source": [
        "var = tf.Variable(6,name=\"var\")"
      ],
      "metadata": {
        "id": "-w4R5Z8inKtH"
      },
      "execution_count": 10,
      "outputs": []
    },
    {
      "cell_type": "code",
      "source": [
        "cons=tf.constant([9,6.8,5.7],dtype=tf.float32)"
      ],
      "metadata": {
        "id": "brryn3qEnSJS"
      },
      "execution_count": 20,
      "outputs": []
    },
    {
      "cell_type": "code",
      "source": [
        "plc = tf.placeholder(dtype=tf.float32,shape=(None,))"
      ],
      "metadata": {
        "id": "dxU7q-EJnSMQ"
      },
      "execution_count": 12,
      "outputs": []
    },
    {
      "cell_type": "code",
      "source": [
        "st = tf.SparseTensor(indices=[[0,1],[1,2],[2,2]],values=[5.2,3,9.6],dense_shape=[3,3])"
      ],
      "metadata": {
        "id": "ubOzs5fTnSO7"
      },
      "execution_count": 14,
      "outputs": []
    },
    {
      "cell_type": "code",
      "source": [
        "with tf.Session() as sess:\n",
        "  sess.run(tf.global_variables_initializer()) \n",
        "  print(\"Var\",sess.run(var))\n",
        "  print(\"Constant\",sess.run(cons))\n",
        "  data = [4.5,8.5,10.3]\n",
        "  print(\"Placeholder\",sess.run(plc,feed_dict={plc:data}))\n",
        "  print(\"SparseTesnor\",sess.run(st))"
      ],
      "metadata": {
        "colab": {
          "base_uri": "https://localhost:8080/"
        },
        "id": "iZxMk_pinSSb",
        "outputId": "ebfe60fe-a4e3-443e-8bea-ca1463a8fdd9"
      },
      "execution_count": 21,
      "outputs": [
        {
          "output_type": "stream",
          "name": "stdout",
          "text": [
            "Var 6\n",
            "Constant [9.  6.8 5.7]\n",
            "Placeholder [ 4.5  8.5 10.3]\n",
            "SparseTesnor SparseTensorValue(indices=array([[0, 1],\n",
            "       [1, 2],\n",
            "       [2, 2]]), values=array([5.2, 3. , 9.6], dtype=float32), dense_shape=array([3, 3]))\n"
          ]
        }
      ]
    }
  ]
}