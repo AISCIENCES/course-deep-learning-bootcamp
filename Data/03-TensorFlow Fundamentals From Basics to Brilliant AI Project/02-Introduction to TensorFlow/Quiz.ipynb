{
  "nbformat": 4,
  "nbformat_minor": 0,
  "metadata": {
    "colab": {
      "provenance": []
    },
    "kernelspec": {
      "name": "python3",
      "display_name": "Python 3"
    },
    "language_info": {
      "name": "python"
    }
  },
  "cells": [
    {
      "cell_type": "code",
      "execution_count": 1,
      "metadata": {
        "colab": {
          "base_uri": "https://localhost:8080/"
        },
        "id": "pW0r7MCx-brt",
        "outputId": "f28bba2d-5fba-4260-fd6a-0d00369353ab"
      },
      "outputs": [
        {
          "output_type": "stream",
          "name": "stdout",
          "text": [
            "1/1 [==============================] - 0s 175ms/step\n",
            "[[35.663883]\n",
            " [36.51908 ]\n",
            " [37.37427 ]\n",
            " [38.229458]\n",
            " [39.084656]]\n"
          ]
        }
      ],
      "source": [
        "import tensorflow as tf\n",
        "import numpy as np\n",
        "from sklearn.preprocessing import MinMaxScaler\n",
        "\n",
        "# Prepare the data\n",
        "x_train = np.array([1, 2, 3, 4, 5])\n",
        "y_train = np.array([100, 150, 200, 250, 300])\n",
        "\n",
        "# Scale the data\n",
        "scaler = MinMaxScaler()\n",
        "x_train_scaled = scaler.fit_transform(x_train.reshape(-1, 1))\n",
        "y_train_scaled = scaler.fit_transform(y_train.reshape(-1, 1))\n",
        "\n",
        "# Build the model\n",
        "model = tf.keras.Sequential()\n",
        "model.add(tf.keras.layers.Dense(1, input_shape=[1]))\n",
        "\n",
        "# Compile the model\n",
        "model.compile(optimizer=tf.keras.optimizers.SGD(),\n",
        "              loss=tf.keras.losses.mean_squared_error)\n",
        "\n",
        "# Train the model\n",
        "model.fit(x_train_scaled, y_train_scaled, epochs=1000, verbose=0)\n",
        "\n",
        "# Make predictions\n",
        "x_test = np.array([6, 7, 8, 9, 10])\n",
        "x_test_scaled = scaler.transform(x_test.reshape(-1, 1))\n",
        "y_pred_scaled = model.predict(x_test_scaled)\n",
        "y_pred = scaler.inverse_transform(y_pred_scaled)\n",
        "\n",
        "print(y_pred)\n"
      ]
    }
  ]
}